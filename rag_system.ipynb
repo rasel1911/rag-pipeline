{
 "cells": [
  {
   "cell_type": "code",
   "execution_count": null,
   "id": "a2a4e855",
   "metadata": {},
   "outputs": [],
   "source": [
    "import bn\n",
    "import re\n",
    "import pytesseract\n",
    "from pdf2image import convert_from_path\n",
    "from PIL import Image\n",
    "import os \n",
    "import numpy as np\n",
    "from PIL import ImageFilter, ImageEnhance\n",
    "from google import genai\n",
    "from dotenv import load_dotenv\n",
    "\n",
    "load_dotenv()\n",
    "\n",
    "client = genai.Client()\n"
   ]
  },
  {
   "cell_type": "code",
   "execution_count": 10,
   "id": "6cbf852d",
   "metadata": {},
   "outputs": [],
   "source": [
    "\n",
    "#extract data pdf to text file\n",
    "custom_config = r'--oem 3'\n",
    "\n",
    "def enhance_image_for_ocr(image):\n",
    "    gray = image.convert('L')\n",
    "    contrast_enhancer = ImageEnhance.Contrast(gray)\n",
    "    contrast = contrast_enhancer.enhance(2.0)\n",
    "    sharp = contrast.filter(ImageFilter.SHARPEN)\n",
    "    return sharp\n",
    "\n",
    "\n",
    "def pdf_to_images(pdf_path, dpi=300):\n",
    "    pages = convert_from_path(pdf_path, dpi=dpi)\n",
    "    enhanced_pages = []\n",
    "    for i in range(len(pages)):\n",
    "        if i>=4 and i<=18:\n",
    "            crop = pages[i].crop((0, 300, pages[i].width, pages[i].height-400))\n",
    "            enhanced_page = enhance_image_for_ocr(crop)\n",
    "            enhanced_pages.append(enhanced_page)\n",
    "    return enhanced_pages\n",
    "\n",
    "def extract_text_from_images(images):\n",
    "    full_text = \"\"\n",
    "    for i, img in enumerate(images):\n",
    "        if i == 0:\n",
    "            pass\n",
    "        else:\n",
    "            print(f\"Processing page {i+1}...\")\n",
    "            text = pytesseract.image_to_string(img, lang='ben', config=custom_config)  # 'ben' = Bengali\n",
    "            clean_text = text.replace('\\xa0', ' ')  # Remove non-breaking spaces\n",
    "            clean_text = \"\\n\".join([line.strip() for line in clean_text.splitlines() if line.strip()])\n",
    "            #clean_text = clean_text.replace('\\n', ' ')\n",
    "            #full_text += f\"\\n\\n--- Page {i+1} ---\\n\\n{text}\"\n",
    "            full_text += clean_text\n",
    "    return full_text\n"
   ]
  },
  {
   "cell_type": "code",
   "execution_count": 11,
   "id": "7d4c363f",
   "metadata": {},
   "outputs": [],
   "source": [
    "pdf = \"HSC.pdf\"  \n",
    "question = \"অনুপমের ভাষায় সুপুরুষ কাকে বলা হয়েছে?\""
   ]
  },
  {
   "cell_type": "code",
   "execution_count": 12,
   "id": "1d8b049d",
   "metadata": {},
   "outputs": [
    {
     "name": "stdout",
     "output_type": "stream",
     "text": [
      "file exist please continue..........\n"
     ]
    }
   ],
   "source": [
    "text_file = \"extract_data2.txt\"\n",
    "if os.path.exists(text_file) == False:\n",
    "    images = pdf_to_images(pdf_file)\n",
    "    bangla_text = extract_text_from_images(images)\n",
    "    with open(text_file, \"w\", encoding=\"utf-8\") as f:\n",
    "        f.write(bangla_text)\n",
    "\n",
    "    print(\"✅ Done! Bangla text saved to 'extract_data2.txt'\")\n",
    "else:\n",
    "    print(\"file exist please continue..........\")"
   ]
  },
  {
   "cell_type": "code",
   "execution_count": 13,
   "id": "795568e7",
   "metadata": {},
   "outputs": [],
   "source": [
    "def chunk_and_vectorize_text(file_path):\n",
    "    try:\n",
    "        with open(file_path, 'r', encoding='utf-8') as file:\n",
    "            text_content = file.read()\n",
    "\n",
    "        # --- Chunking ---\n",
    "        # Tokenize the text into individual sentences\n",
    "        text_content = text_content.replace(\"\\n\",\" \")\n",
    "        sentences = text_content.split(\"।\")\n",
    "        print(len(sentences))\n",
    "        sum_sentence = []\n",
    "        for i in range(0,len(sentences),8):\n",
    "            chunk = sentences[i:i+8]\n",
    "            sum_sentence.append(\"\".join(chunk))\n",
    "        return sum_sentence\n",
    "    except:\n",
    "        print(\"error\")\n",
    "\n",
    "def search_chunks_multiple_keywords(chunks, keywords):\n",
    "    # Normalize keywords to lowercase\n",
    "    keywords = [k.lower() for k in keywords]\n",
    "    \n",
    "    # Search for any of the keywords in each chunk\n",
    "    result = []\n",
    "    for chunk in chunks:\n",
    "        chunk_lower = chunk.lower()\n",
    "        if any(k in chunk_lower for k in keywords):\n",
    "            result.append(chunk)\n",
    "    return result\n"
   ]
  },
  {
   "cell_type": "code",
   "execution_count": 14,
   "id": "52b59954",
   "metadata": {},
   "outputs": [
    {
     "name": "stdout",
     "output_type": "stream",
     "text": [
      "371\n"
     ]
    }
   ],
   "source": [
    "file_path = \"extract_data2.txt\"\n",
    "chunks = chunk_and_vectorize_text(file_path)"
   ]
  },
  {
   "cell_type": "code",
   "execution_count": 15,
   "id": "027dbd06",
   "metadata": {},
   "outputs": [],
   "source": [
    "def output_get(content,question):\n",
    "    response = client.models.generate_content(\n",
    "        model=\"gemini-2.5-flash\",\n",
    "        contents=f'{content} read this content and give {question} this question answer. only give answer',\n",
    "    )\n",
    "    return response.text"
   ]
  },
  {
   "cell_type": "code",
   "execution_count": 16,
   "id": "5874e4ea",
   "metadata": {},
   "outputs": [
    {
     "name": "stdout",
     "output_type": "stream",
     "text": [
      "কন্যাপিতা শম্ভুনাথবাবুকে সুপুরুষ বলা হয়েছে। তাঁর চেহারা ছিল এমন যে, ভিড়ের মধ্যে দেখলে সকলের আগে তাঁর উপরেই চোখ পড়ত।\n"
     ]
    }
   ],
   "source": [
    "st=bn.remove_stopwords(question)\n",
    "words = bn.tokenizer(st) # or bn.tokenizer(text, 'word')\n",
    "found_chunks = search_chunks_multiple_keywords(chunks, words)\n",
    "result_al = []\n",
    "for i, chunk in enumerate(found_chunks):\n",
    "    result_al.append(chunk)\n",
    "result = output_get(result_al,question)\n",
    "print(result)"
   ]
  }
 ],
 "metadata": {
  "kernelspec": {
   "display_name": ".env (3.13.5)",
   "language": "python",
   "name": "python3"
  },
  "language_info": {
   "codemirror_mode": {
    "name": "ipython",
    "version": 3
   },
   "file_extension": ".py",
   "mimetype": "text/x-python",
   "name": "python",
   "nbconvert_exporter": "python",
   "pygments_lexer": "ipython3",
   "version": "3.13.5"
  }
 },
 "nbformat": 4,
 "nbformat_minor": 5
}
